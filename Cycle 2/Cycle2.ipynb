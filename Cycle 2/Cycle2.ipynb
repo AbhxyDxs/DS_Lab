{
 "cells": [
  {
   "cell_type": "code",
   "execution_count": null,
   "metadata": {},
   "outputs": [],
   "source": [
    "import numpy as np"
   ]
  },
  {
   "cell_type": "code",
   "execution_count": null,
   "metadata": {},
   "outputs": [],
   "source": [
    "rows=int(input(\"Enter No of Rows : \"))\n",
    "cols=int(input(\"Enter No of Columns : \"))\n",
    "m1=np.zeros((rows,cols))\n",
    "m2=np.zeros((rows,cols))"
   ]
  },
  {
   "cell_type": "code",
   "execution_count": null,
   "metadata": {},
   "outputs": [],
   "source": [
    "print(\"Enter 1st Matrix Elements\")\n",
    "for i in range (rows):\n",
    "    for j in range (cols):\n",
    "        m1[i][j]=int(input(f\"Element {i+1},{j+1} : \"))"
   ]
  },
  {
   "cell_type": "code",
   "execution_count": null,
   "metadata": {},
   "outputs": [],
   "source": [
    "print(\"Enter 2nd Matrix Elements\")\n",
    "for i in range (rows):\n",
    "    for j in range (cols):\n",
    "        m2[i][j]=int(input(f\"Element {i+1},{j+1} : \"))"
   ]
  },
  {
   "cell_type": "code",
   "execution_count": null,
   "metadata": {},
   "outputs": [],
   "source": [
    "dotP=np.dot(m1,m2)\n",
    "print(f\"Dot Product\\n---------------\\n{dotP}\")"
   ]
  },
  {
   "cell_type": "code",
   "execution_count": null,
   "metadata": {},
   "outputs": [],
   "source": [
    "m1t=np.transpose(m1)\n",
    "m2t=np.transpose(m2)\n",
    "print(f\"Transpose of Matrix 1\\n---------------\\n{m1t}\\n\")\n",
    "print(f\"Transpose of Matrix 2\\n---------------\\n{m2t}\")"
   ]
  },
  {
   "cell_type": "code",
   "execution_count": null,
   "metadata": {},
   "outputs": [],
   "source": [
    "m1tr=np.trace(m1)\n",
    "m2tr=np.trace(m2)\n",
    "print(f\"Trace of Matrix 1\\n---------------\\n{m1tr}\\n\")\n",
    "print(f\"Trace of Matrix 2\\n---------------\\n{m2tr}\")"
   ]
  },
  {
   "cell_type": "code",
   "execution_count": null,
   "metadata": {},
   "outputs": [],
   "source": [
    "m1r=np.linalg.matrix_rank(m1)\n",
    "m2r=np.linalg.matrix_rank(m2)\n",
    "print(f\"Rank of Matrix 1\\n---------------\\n{m1r}\\n\")\n",
    "print(f\"Rank of Matrix 2\\n---------------\\n{m2r}\")"
   ]
  },
  {
   "cell_type": "code",
   "execution_count": null,
   "metadata": {},
   "outputs": [],
   "source": [
    "m1d=np.linalg.det(m1)\n",
    "m2d=np.linalg.det(m2)\n",
    "print(f\"Determinant of Matrix 1\\n---------------\\n{m1d}\\n\")\n",
    "print(f\"Determinant of Matrix 2\\n---------------\\n{m2d}\")"
   ]
  },
  {
   "cell_type": "code",
   "execution_count": null,
   "metadata": {},
   "outputs": [],
   "source": [
    "try:\n",
    "    m1i=np.linalg.inv(m1)\n",
    "    m2i=np.linalg.inv(m2)\n",
    "    print(f\"Inverse of Matrix 1\\n---------------\\n{m1i}\\n\")\n",
    "    print(f\"Inverse of Matrix 2\\n---------------\\n{m2i}\")\n",
    "except np.linalg.LinAlgError:\n",
    "    print(\"Not Inversible\")"
   ]
  },
  {
   "cell_type": "code",
   "execution_count": null,
   "metadata": {},
   "outputs": [],
   "source": [
    "eigValm1,eigVecm1=np.linalg.eig(m1)\n",
    "eigValm2,eigVecm2=np.linalg.eig(m2)\n",
    "print(f\"Eigen Values of Matrix 1\\n---------------\\n{eigValm1}\\n\")\n",
    "print(f\"Eigen Vectors of Matrix 1\\n---------------\\n{eigVecm1}\\n\")\n",
    "print(f\"Eigen Values of Matrix 2\\n---------------\\n{eigValm2}\\n\")\n",
    "print(f\"Eigen Vectors of Matrix 2\\n---------------\\n{eigVecm2}\")"
   ]
  },
  {
   "cell_type": "code",
   "execution_count": null,
   "metadata": {},
   "outputs": [],
   "source": []
  }
 ],
 "metadata": {
  "kernelspec": {
   "display_name": "Python 3",
   "language": "python",
   "name": "python3"
  },
  "language_info": {
   "codemirror_mode": {
    "name": "ipython",
    "version": 3
   },
   "file_extension": ".py",
   "mimetype": "text/x-python",
   "name": "python",
   "nbconvert_exporter": "python",
   "pygments_lexer": "ipython3",
   "version": "3.7.3"
  }
 },
 "nbformat": 4,
 "nbformat_minor": 2
}
