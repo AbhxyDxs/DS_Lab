{
 "cells": [
  {
   "cell_type": "code",
   "execution_count": 31,
   "id": "1a23fb11-2386-4be7-9f4a-9090f107f6da",
   "metadata": {},
   "outputs": [],
   "source": [
    "import pandas as pd\n",
    "import numpy as np"
   ]
  },
  {
   "cell_type": "code",
   "execution_count": 45,
   "id": "8f5c4f46-190c-4326-863b-da3241a902e5",
   "metadata": {},
   "outputs": [],
   "source": [
    "df1 = pd.DataFrame({\n",
    "    'EID': [1, 2, 3, 4, 5],\n",
    "    'EName': ['Abhay', 'Vishnu', 'Vimal', 'Nimil', 'Jithin'],\n",
    "    'Stipend': [200000, 150000, 100000, 80000, 75000]\n",
    "})"
   ]
  },
  {
   "cell_type": "code",
   "execution_count": 46,
   "id": "756a2cf7-fa41-41ca-908e-f3a2b7f9bec9",
   "metadata": {},
   "outputs": [],
   "source": [
    "df2 = pd.DataFrame({\n",
    "    'EID': [1, 2, 3, 4, 5],\n",
    "    'Designation': ['Manager', 'Engineer', 'Analyst', 'Clerk', 'Salesman']\n",
    "})"
   ]
  },
  {
   "cell_type": "code",
   "execution_count": 48,
   "id": "010f2276-7189-401b-b3ec-2a4522598f03",
   "metadata": {},
   "outputs": [],
   "source": [
    "df = pd.merge(df1, df2, on='EID')"
   ]
  },
  {
   "cell_type": "code",
   "execution_count": 49,
   "id": "b1a93a60-8681-4f63-8e07-2e4f0d42a05e",
   "metadata": {},
   "outputs": [
    {
     "name": "stdout",
     "output_type": "stream",
     "text": [
      "   EID   EName  Stipend Designation\n",
      "0    1   Abhay   200000     Manager\n",
      "1    2  Vishnu   150000    Engineer\n",
      "2    3   Vimal   100000     Analyst\n",
      "3    4   Nimil    80000       Clerk\n",
      "4    5  Jithin    75000    Salesman\n"
     ]
    }
   ],
   "source": [
    "print(df)"
   ]
  },
  {
   "cell_type": "code",
   "execution_count": null,
   "id": "3c59d78a-084b-493b-9875-48af13e13f72",
   "metadata": {},
   "outputs": [],
   "source": []
  }
 ],
 "metadata": {
  "kernelspec": {
   "display_name": "Python 3 (ipykernel)",
   "language": "python",
   "name": "python3"
  },
  "language_info": {
   "codemirror_mode": {
    "name": "ipython",
    "version": 3
   },
   "file_extension": ".py",
   "mimetype": "text/x-python",
   "name": "python",
   "nbconvert_exporter": "python",
   "pygments_lexer": "ipython3",
   "version": "3.10.10"
  }
 },
 "nbformat": 4,
 "nbformat_minor": 5
}
