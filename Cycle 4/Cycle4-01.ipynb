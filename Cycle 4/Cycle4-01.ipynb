{
 "cells": [
  {
   "cell_type": "code",
   "execution_count": 3,
   "id": "1a23fb11-2386-4be7-9f4a-9090f107f6da",
   "metadata": {},
   "outputs": [],
   "source": [
    "import pandas as pd"
   ]
  },
  {
   "cell_type": "code",
   "execution_count": 7,
   "id": "cd3cb972-523e-4c00-b309-ec4e1012ff36",
   "metadata": {},
   "outputs": [
    {
     "name": "stdin",
     "output_type": "stream",
     "text": [
      "Enter List Elements :  1 2 3 4 5\n"
     ]
    }
   ],
   "source": [
    "list = input(\"Enter List Elements : \")\n",
    "list = list.split()\n",
    "list2 = [int(x) for x in list]"
   ]
  },
  {
   "cell_type": "code",
   "execution_count": 8,
   "id": "65e2c684-dfab-42f8-ac21-9997b53f8ae8",
   "metadata": {},
   "outputs": [],
   "source": [
    "series = pd.Series(list2)"
   ]
  },
  {
   "cell_type": "code",
   "execution_count": 9,
   "id": "60264755-2dd3-4298-bc02-6cda5a0ab3d1",
   "metadata": {},
   "outputs": [
    {
     "name": "stdout",
     "output_type": "stream",
     "text": [
      "0    1\n",
      "1    2\n",
      "2    3\n",
      "3    4\n",
      "4    5\n",
      "dtype: int64\n"
     ]
    }
   ],
   "source": [
    "print(series)"
   ]
  },
  {
   "cell_type": "code",
   "execution_count": null,
   "id": "010f2276-7189-401b-b3ec-2a4522598f03",
   "metadata": {},
   "outputs": [],
   "source": []
  }
 ],
 "metadata": {
  "kernelspec": {
   "display_name": "Python 3 (ipykernel)",
   "language": "python",
   "name": "python3"
  },
  "language_info": {
   "codemirror_mode": {
    "name": "ipython",
    "version": 3
   },
   "file_extension": ".py",
   "mimetype": "text/x-python",
   "name": "python",
   "nbconvert_exporter": "python",
   "pygments_lexer": "ipython3",
   "version": "3.10.10"
  }
 },
 "nbformat": 4,
 "nbformat_minor": 5
}
