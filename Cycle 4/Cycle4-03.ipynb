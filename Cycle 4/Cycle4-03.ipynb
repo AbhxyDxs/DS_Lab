{
 "cells": [
  {
   "cell_type": "code",
   "execution_count": 3,
   "id": "1a23fb11-2386-4be7-9f4a-9090f107f6da",
   "metadata": {},
   "outputs": [],
   "source": [
    "import pandas as pd"
   ]
  },
  {
   "cell_type": "code",
   "execution_count": 4,
   "id": "cd3cb972-523e-4c00-b309-ec4e1012ff36",
   "metadata": {},
   "outputs": [],
   "source": [
    "data = {'Name': ['Abhay', 'Vishnu', 'Varun'],\n",
    "        'Age': [23, 24, 28],\n",
    "        'City': ['Kannur', 'Idukki', 'Kollam']}"
   ]
  },
  {
   "cell_type": "code",
   "execution_count": 5,
   "id": "65e2c684-dfab-42f8-ac21-9997b53f8ae8",
   "metadata": {},
   "outputs": [],
   "source": [
    "df = pd.DataFrame(data)"
   ]
  },
  {
   "cell_type": "code",
   "execution_count": 6,
   "id": "60264755-2dd3-4298-bc02-6cda5a0ab3d1",
   "metadata": {},
   "outputs": [
    {
     "name": "stdout",
     "output_type": "stream",
     "text": [
      "     Name  Age    City\n",
      "0   Abhay   23  Kannur\n",
      "1  Vishnu   24  Idukki\n",
      "2   Varun   28  Kollam\n"
     ]
    }
   ],
   "source": [
    "print(df)"
   ]
  },
  {
   "cell_type": "code",
   "execution_count": null,
   "id": "010f2276-7189-401b-b3ec-2a4522598f03",
   "metadata": {},
   "outputs": [],
   "source": []
  }
 ],
 "metadata": {
  "kernelspec": {
   "display_name": "Python 3 (ipykernel)",
   "language": "python",
   "name": "python3"
  },
  "language_info": {
   "codemirror_mode": {
    "name": "ipython",
    "version": 3
   },
   "file_extension": ".py",
   "mimetype": "text/x-python",
   "name": "python",
   "nbconvert_exporter": "python",
   "pygments_lexer": "ipython3",
   "version": "3.10.10"
  }
 },
 "nbformat": 4,
 "nbformat_minor": 5
}
