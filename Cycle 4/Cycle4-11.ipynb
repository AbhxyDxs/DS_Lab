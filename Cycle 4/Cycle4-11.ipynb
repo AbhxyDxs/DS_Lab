{
 "cells": [
  {
   "cell_type": "code",
   "execution_count": 31,
   "id": "1a23fb11-2386-4be7-9f4a-9090f107f6da",
   "metadata": {},
   "outputs": [],
   "source": [
    "import pandas as pd\n",
    "import numpy as np"
   ]
  },
  {
   "cell_type": "code",
   "execution_count": 41,
   "id": "8f5c4f46-190c-4326-863b-da3241a902e5",
   "metadata": {},
   "outputs": [],
   "source": [
    "df = pd.DataFrame({\n",
    "    'CName': ['Accenture', 'IBM', 'TCS', 'Deloitte', 'TATA Elxsi'],\n",
    "    'Profit': [100, -200, 300, -400, 500]\n",
    "})"
   ]
  },
  {
   "cell_type": "code",
   "execution_count": 43,
   "id": "756a2cf7-fa41-41ca-908e-f3a2b7f9bec9",
   "metadata": {},
   "outputs": [],
   "source": [
    "df['Profit'] = df['Profit'].apply(lambda x: True if x > 0 else False)"
   ]
  },
  {
   "cell_type": "code",
   "execution_count": 44,
   "id": "010f2276-7189-401b-b3ec-2a4522598f03",
   "metadata": {},
   "outputs": [
    {
     "name": "stdout",
     "output_type": "stream",
     "text": [
      "        CName  Profit\n",
      "0   Accenture    True\n",
      "1         IBM   False\n",
      "2         TCS    True\n",
      "3    Deloitte   False\n",
      "4  TATA Elxsi    True\n"
     ]
    }
   ],
   "source": [
    "print(df)"
   ]
  },
  {
   "cell_type": "code",
   "execution_count": null,
   "id": "b1a93a60-8681-4f63-8e07-2e4f0d42a05e",
   "metadata": {},
   "outputs": [],
   "source": []
  }
 ],
 "metadata": {
  "kernelspec": {
   "display_name": "Python 3 (ipykernel)",
   "language": "python",
   "name": "python3"
  },
  "language_info": {
   "codemirror_mode": {
    "name": "ipython",
    "version": 3
   },
   "file_extension": ".py",
   "mimetype": "text/x-python",
   "name": "python",
   "nbconvert_exporter": "python",
   "pygments_lexer": "ipython3",
   "version": "3.10.10"
  }
 },
 "nbformat": 4,
 "nbformat_minor": 5
}
