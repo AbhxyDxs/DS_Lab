{
 "cells": [
  {
   "cell_type": "code",
   "execution_count": 1,
   "id": "1a23fb11-2386-4be7-9f4a-9090f107f6da",
   "metadata": {},
   "outputs": [],
   "source": [
    "import pandas as pd"
   ]
  },
  {
   "cell_type": "code",
   "execution_count": 8,
   "id": "cd3cb972-523e-4c00-b309-ec4e1012ff36",
   "metadata": {},
   "outputs": [],
   "source": [
    "df = pd.read_csv('SampleCSV.csv')"
   ]
  },
  {
   "cell_type": "code",
   "execution_count": 9,
   "id": "010f2276-7189-401b-b3ec-2a4522598f03",
   "metadata": {},
   "outputs": [
    {
     "name": "stdout",
     "output_type": "stream",
     "text": [
      "   1   Abhay  Kannur\n",
      "0  2  Vishnu  Idukki\n",
      "1  3   Varun  Kollam\n"
     ]
    }
   ],
   "source": [
    "print(df)"
   ]
  },
  {
   "cell_type": "code",
   "execution_count": null,
   "id": "b1a93a60-8681-4f63-8e07-2e4f0d42a05e",
   "metadata": {},
   "outputs": [],
   "source": []
  }
 ],
 "metadata": {
  "kernelspec": {
   "display_name": "Python 3 (ipykernel)",
   "language": "python",
   "name": "python3"
  },
  "language_info": {
   "codemirror_mode": {
    "name": "ipython",
    "version": 3
   },
   "file_extension": ".py",
   "mimetype": "text/x-python",
   "name": "python",
   "nbconvert_exporter": "python",
   "pygments_lexer": "ipython3",
   "version": "3.10.10"
  }
 },
 "nbformat": 4,
 "nbformat_minor": 5
}
