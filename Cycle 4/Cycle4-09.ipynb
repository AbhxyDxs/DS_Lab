{
 "cells": [
  {
   "cell_type": "code",
   "execution_count": 1,
   "id": "1a23fb11-2386-4be7-9f4a-9090f107f6da",
   "metadata": {},
   "outputs": [],
   "source": [
    "import pandas as pd"
   ]
  },
  {
   "cell_type": "code",
   "execution_count": 24,
   "id": "8f5c4f46-190c-4326-863b-da3241a902e5",
   "metadata": {},
   "outputs": [],
   "source": [
    "df = pd.DataFrame({\n",
    "    'Name': ['Abhay', 'Vishnu', 'Varun', 'Vivek', 'Nimil'],\n",
    "    'Occupation': ['Teacher', 'Lawyer', 'Engineer', 'Teacher', 'Accountant'],\n",
    "    'Salary': [100000, 200000, 150000, 75000, 125000]\n",
    "})"
   ]
  },
  {
   "cell_type": "code",
   "execution_count": 25,
   "id": "756a2cf7-fa41-41ca-908e-f3a2b7f9bec9",
   "metadata": {},
   "outputs": [],
   "source": [
    "AvgSalary = df.groupby('Occupation')['Salary'].mean()"
   ]
  },
  {
   "cell_type": "code",
   "execution_count": 26,
   "id": "010f2276-7189-401b-b3ec-2a4522598f03",
   "metadata": {},
   "outputs": [
    {
     "name": "stdout",
     "output_type": "stream",
     "text": [
      "Occupation\n",
      "Accountant    125000.0\n",
      "Engineer      150000.0\n",
      "Lawyer        200000.0\n",
      "Teacher        87500.0\n",
      "Name: Salary, dtype: float64\n"
     ]
    }
   ],
   "source": [
    "print(AvgSalary)"
   ]
  },
  {
   "cell_type": "code",
   "execution_count": null,
   "id": "b1a93a60-8681-4f63-8e07-2e4f0d42a05e",
   "metadata": {},
   "outputs": [],
   "source": []
  }
 ],
 "metadata": {
  "kernelspec": {
   "display_name": "Python 3 (ipykernel)",
   "language": "python",
   "name": "python3"
  },
  "language_info": {
   "codemirror_mode": {
    "name": "ipython",
    "version": 3
   },
   "file_extension": ".py",
   "mimetype": "text/x-python",
   "name": "python",
   "nbconvert_exporter": "python",
   "pygments_lexer": "ipython3",
   "version": "3.10.10"
  }
 },
 "nbformat": 4,
 "nbformat_minor": 5
}
