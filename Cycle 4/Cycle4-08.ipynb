{
 "cells": [
  {
   "cell_type": "code",
   "execution_count": 1,
   "id": "1a23fb11-2386-4be7-9f4a-9090f107f6da",
   "metadata": {},
   "outputs": [],
   "source": [
    "import pandas as pd"
   ]
  },
  {
   "cell_type": "code",
   "execution_count": 21,
   "id": "8f5c4f46-190c-4326-863b-da3241a902e5",
   "metadata": {},
   "outputs": [],
   "source": [
    "df = pd.DataFrame({'Name': ['Abhay', 'Vishnu', 'Varun','Vivek'],\n",
    "                   'Age': [23, 24, 28,18],\n",
    "                   'City': ['Kannur', 'Idukki', 'Kollam',\"Wayanad\"]})"
   ]
  },
  {
   "cell_type": "code",
   "execution_count": 22,
   "id": "756a2cf7-fa41-41ca-908e-f3a2b7f9bec9",
   "metadata": {},
   "outputs": [],
   "source": [
    "df2 = df.head(2)"
   ]
  },
  {
   "cell_type": "code",
   "execution_count": 23,
   "id": "010f2276-7189-401b-b3ec-2a4522598f03",
   "metadata": {},
   "outputs": [
    {
     "name": "stdout",
     "output_type": "stream",
     "text": [
      "     Name  Age    City\n",
      "0   Abhay   23  Kannur\n",
      "1  Vishnu   24  Idukki\n"
     ]
    }
   ],
   "source": [
    "print(df2)"
   ]
  },
  {
   "cell_type": "code",
   "execution_count": null,
   "id": "b1a93a60-8681-4f63-8e07-2e4f0d42a05e",
   "metadata": {},
   "outputs": [],
   "source": []
  }
 ],
 "metadata": {
  "kernelspec": {
   "display_name": "Python 3 (ipykernel)",
   "language": "python",
   "name": "python3"
  },
  "language_info": {
   "codemirror_mode": {
    "name": "ipython",
    "version": 3
   },
   "file_extension": ".py",
   "mimetype": "text/x-python",
   "name": "python",
   "nbconvert_exporter": "python",
   "pygments_lexer": "ipython3",
   "version": "3.10.10"
  }
 },
 "nbformat": 4,
 "nbformat_minor": 5
}
