{
 "cells": [
  {
   "cell_type": "code",
   "execution_count": 1,
   "id": "a43dc8db-5db3-41ab-884e-a846c263c74b",
   "metadata": {},
   "outputs": [],
   "source": [
    "import pandas as pd"
   ]
  },
  {
   "cell_type": "code",
   "execution_count": 2,
   "id": "2eaf4ffb-366e-4cf6-a680-e45dbde13a96",
   "metadata": {},
   "outputs": [],
   "source": [
    "data = [['Abhay', 23, 'Kannur'],\n",
    "        ['Vishnu', 24, 'Idukkki'],\n",
    "        ['Varun', 28, 'Kollam']]"
   ]
  },
  {
   "cell_type": "code",
   "execution_count": 3,
   "id": "f6912798-caa7-4ddc-ae60-eca22ce7d122",
   "metadata": {},
   "outputs": [],
   "source": [
    "df = pd.DataFrame(data, columns=['Name', 'Age', 'City'])"
   ]
  },
  {
   "cell_type": "code",
   "execution_count": 4,
   "id": "680094a1-2398-4fb0-b536-a98d1a427625",
   "metadata": {},
   "outputs": [
    {
     "name": "stdout",
     "output_type": "stream",
     "text": [
      "     Name  Age     City\n",
      "0   Abhay   23   Kannur\n",
      "1  Vishnu   24  Idukkki\n",
      "2   Varun   28   Kollam\n"
     ]
    }
   ],
   "source": [
    "print(df)"
   ]
  },
  {
   "cell_type": "code",
   "execution_count": null,
   "id": "1516f2bb-7dc3-4745-8923-0367ede9c600",
   "metadata": {},
   "outputs": [],
   "source": []
  }
 ],
 "metadata": {
  "kernelspec": {
   "display_name": "Python 3 (ipykernel)",
   "language": "python",
   "name": "python3"
  },
  "language_info": {
   "codemirror_mode": {
    "name": "ipython",
    "version": 3
   },
   "file_extension": ".py",
   "mimetype": "text/x-python",
   "name": "python",
   "nbconvert_exporter": "python",
   "pygments_lexer": "ipython3",
   "version": "3.10.10"
  }
 },
 "nbformat": 4,
 "nbformat_minor": 5
}
