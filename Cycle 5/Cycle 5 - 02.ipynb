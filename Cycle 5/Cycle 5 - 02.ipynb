{
 "cells": [
  {
   "cell_type": "code",
   "execution_count": null,
   "id": "bceaa262-c903-42de-805b-a920d2996f2b",
   "metadata": {},
   "outputs": [],
   "source": [
    "!pip install -U scikit-learn"
   ]
  },
  {
   "cell_type": "code",
   "execution_count": 29,
   "id": "3eea10d0-bb07-4c98-bce8-4b69af4fe87f",
   "metadata": {},
   "outputs": [],
   "source": [
    "import pandas as pd\n",
    "import numpy as np\n",
    "\n",
    "from sklearn.datasets import load_iris\n",
    "from sklearn.neighbors import KNeighborsClassifier as KNN\n",
    "from sklearn.model_selection import train_test_split as splt\n",
    "from sklearn import metrics"
   ]
  },
  {
   "cell_type": "code",
   "execution_count": 30,
   "id": "5c8777bf-9d9f-4c1f-a1ef-cf396dbce643",
   "metadata": {},
   "outputs": [],
   "source": [
    "iris = load_iris()\n",
    "#print(iris.keys())\n",
    "#print(iris.data.shape)"
   ]
  },
  {
   "cell_type": "code",
   "execution_count": 31,
   "id": "93415003-4bc0-4ae3-8b59-74ffa22f15b1",
   "metadata": {},
   "outputs": [
    {
     "name": "stdout",
     "output_type": "stream",
     "text": [
      "Features :\t ['sepal length (cm)', 'sepal width (cm)', 'petal length (cm)', 'petal width (cm)']\n",
      "Types :\t\t ['setosa' 'versicolor' 'virginica']\n"
     ]
    }
   ],
   "source": [
    "print(\"Features :\\t\",iris.feature_names)\n",
    "print(\"Types :\\t\\t\",iris.target_names)"
   ]
  },
  {
   "cell_type": "code",
   "execution_count": 32,
   "id": "4408cc73-b32e-41b7-baa0-278a5bc741bf",
   "metadata": {},
   "outputs": [
    {
     "name": "stdout",
     "output_type": "stream",
     "text": [
      "Accuracy :  0.9777777777777777\n"
     ]
    }
   ],
   "source": [
    "x = iris.data\n",
    "y = iris.target\n",
    "xtrain,xtest,ytrain,ytest = splt(x,y,test_size=0.3,random_state=1)\n",
    "clf = KNN(n_neighbors = 3)\n",
    "clf.fit(xtrain,ytrain)\n",
    "YTestPrediction = clf.predict(xtest)\n",
    "print(\"Accuracy : \",metrics.accuracy_score(ytest,YTestPrediction))"
   ]
  },
  {
   "cell_type": "code",
   "execution_count": 33,
   "id": "94d7b209-293b-45b3-a4b3-6eeb7d7798f9",
   "metadata": {},
   "outputs": [
    {
     "name": "stdin",
     "output_type": "stream",
     "text": [
      "Enter Sepal Length (cm) :  5.2\n",
      "Enter Sepal Width (cm) :  3\n",
      "Enter Petal Length (cm) :  5.2\n",
      "Enter Petal Width (cm) :  6\n"
     ]
    },
    {
     "name": "stdout",
     "output_type": "stream",
     "text": [
      "Type of this Iris Flower :  ['virginica']\n"
     ]
    }
   ],
   "source": [
    "sl = float(input(\"Enter Sepal Length (cm) : \"))\n",
    "sw = float(input(\"Enter Sepal Width (cm) : \"))\n",
    "pl = float(input(\"Enter Petal Length (cm) : \"))\n",
    "pw = float(input(\"Enter Petal Width (cm) : \"))\n",
    "Prediction = clf.predict([[sl,sw,pl,pw]])\n",
    "print(\"Type of this Iris Flower : \",iris.target_names[Prediction])"
   ]
  },
  {
   "cell_type": "code",
   "execution_count": null,
   "id": "4a7bc684-90c4-4488-98f6-f45e52ba8e2e",
   "metadata": {},
   "outputs": [],
   "source": []
  }
 ],
 "metadata": {
  "kernelspec": {
   "display_name": "Python 3 (ipykernel)",
   "language": "python",
   "name": "python3"
  },
  "language_info": {
   "codemirror_mode": {
    "name": "ipython",
    "version": 3
   },
   "file_extension": ".py",
   "mimetype": "text/x-python",
   "name": "python",
   "nbconvert_exporter": "python",
   "pygments_lexer": "ipython3",
   "version": "3.10.10"
  }
 },
 "nbformat": 4,
 "nbformat_minor": 5
}
