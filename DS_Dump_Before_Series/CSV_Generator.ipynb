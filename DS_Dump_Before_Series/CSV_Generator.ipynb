{
 "cells": [
  {
   "cell_type": "code",
   "execution_count": 1,
   "metadata": {},
   "outputs": [],
   "source": [
    "import pandas as pd\n",
    "import numpy as np"
   ]
  },
  {
   "cell_type": "code",
   "execution_count": 2,
   "metadata": {},
   "outputs": [],
   "source": [
    "np.random.seed(15) #Seed ensures the same sequence of randomness\n",
    "data = {\n",
    "    'Color':np.random.choice(['Red','Blue','Green','Black','White'],50),\n",
    "    'Brand':np.random.choice(['Ford','Ferrari','Nissan','Volkswagen','Cheverlot'],50),\n",
    "    'Year':np.random.randint(2018,2023,size=50),\n",
    "    'Seats':np.random.randint(4,8,50),\n",
    "    'Kilometers_Run':np.random.randint(35000,65000,50),\n",
    "    'Buy':np.random.choice(['Yes','No'],50)\n",
    "}\n",
    "df = pd.DataFrame(data)"
   ]
  },
  {
   "cell_type": "code",
   "execution_count": 4,
   "metadata": {},
   "outputs": [],
   "source": [
    "df.to_csv('Cars.csv',index=False)"
   ]
  },
  {
   "cell_type": "code",
   "execution_count": null,
   "metadata": {},
   "outputs": [],
   "source": [
    "#We can use pd.read_csv('filename.csv') to read csv\n",
    "#Eg :   data = pd.read_csv('Cars.csv')\n",
    "#       df = pd.DataFrame(data)"
   ]
  }
 ],
 "metadata": {
  "kernelspec": {
   "display_name": "Python 3",
   "language": "python",
   "name": "python3"
  },
  "language_info": {
   "codemirror_mode": {
    "name": "ipython",
    "version": 3
   },
   "file_extension": ".py",
   "mimetype": "text/x-python",
   "name": "python",
   "nbconvert_exporter": "python",
   "pygments_lexer": "ipython3",
   "version": "3.10.6"
  }
 },
 "nbformat": 4,
 "nbformat_minor": 2
}
