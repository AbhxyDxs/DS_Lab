{
 "cells": [
  {
   "cell_type": "code",
   "execution_count": 1,
   "metadata": {},
   "outputs": [],
   "source": [
    "import pandas as pd"
   ]
  },
  {
   "cell_type": "code",
   "execution_count": 2,
   "metadata": {},
   "outputs": [
    {
     "name": "stdout",
     "output_type": "stream",
     "text": [
      "     Country  Medals\n",
      "0      India       8\n",
      "1        USA       9\n",
      "2  Australia       4\n",
      "3      Japan       6\n",
      "4      Korea       5\n",
      "5      China       5\n"
     ]
    }
   ],
   "source": [
    "data = pd.read_csv('Medals.csv')\n",
    "df = pd.DataFrame(data)\n",
    "print(df)"
   ]
  },
  {
   "cell_type": "code",
   "execution_count": 6,
   "metadata": {},
   "outputs": [
    {
     "name": "stdout",
     "output_type": "stream",
     "text": [
      "     Country  Medals\n",
      "2  Australia       4\n",
      "5      China       5\n",
      "0      India       8\n",
      "3      Japan       6\n",
      "4      Korea       5\n",
      "1        USA       9\n"
     ]
    }
   ],
   "source": [
    "print(df.sort_values(by=['Country']))"
   ]
  },
  {
   "cell_type": "code",
   "execution_count": 7,
   "metadata": {},
   "outputs": [],
   "source": [
    "df = pd.DataFrame({'Name': ['Abhay', 'Vishnu', 'Varun','Vivek'],\n",
    "                   'Age': [23, 24, 28,18],\n",
    "                   'City': ['Kannur', 'Idukki', 'Kollam',\"Wayanad\"]},index = ['a','b','c','d'])"
   ]
  },
  {
   "cell_type": "code",
   "execution_count": 9,
   "metadata": {},
   "outputs": [
    {
     "name": "stdout",
     "output_type": "stream",
     "text": [
      "  index    Name  Age     City\n",
      "0     a   Abhay   23   Kannur\n",
      "1     b  Vishnu   24   Idukki\n",
      "2     c   Varun   28   Kollam\n",
      "3     d   Vivek   18  Wayanad\n"
     ]
    }
   ],
   "source": [
    "df.reset_index(inplace=True)\n",
    "print(df)"
   ]
  },
  {
   "cell_type": "code",
   "execution_count": 12,
   "metadata": {},
   "outputs": [
    {
     "name": "stdout",
     "output_type": "stream",
     "text": [
      "   Numbers\n",
      "0      0.0\n",
      "1      1.0\n",
      "2      2.0\n",
      "3      NaN\n",
      "4      NaN\n",
      "5      5.0\n",
      "   Numbers\n",
      "0      0.0\n",
      "1      1.0\n",
      "2      2.0\n",
      "3      0.0\n",
      "4      0.0\n",
      "5      5.0\n"
     ]
    }
   ],
   "source": [
    "import numpy as np\n",
    "data={'Numbers':[0,1,2,np.nan,np.nan,5]}\n",
    "df = pd.DataFrame(data)\n",
    "print(df)\n",
    "df.fillna(0,inplace=True)\n",
    "print(df)"
   ]
  },
  {
   "cell_type": "code",
   "execution_count": 3,
   "metadata": {},
   "outputs": [
    {
     "name": "stdout",
     "output_type": "stream",
     "text": [
      "        CName  Profit\n",
      "0   Accenture    True\n",
      "1         IBM   False\n",
      "2         TCS    True\n",
      "3    Deloitte   False\n",
      "4  TATA Elxsi    True\n"
     ]
    }
   ],
   "source": [
    "df = pd.DataFrame({\n",
    "    'CName': ['Accenture', 'IBM', 'TCS', 'Deloitte', 'TATA Elxsi'],\n",
    "    'Profit': [100, -200, 300, -400, 500]\n",
    "})\n",
    "\n",
    "df['Profit'] = df['Profit'].apply(lambda x:True if x>0 else False)\n",
    "# df['Profit'] = df['Profit'] > 0\n",
    "print(df)"
   ]
  },
  {
   "cell_type": "code",
   "execution_count": 14,
   "metadata": {},
   "outputs": [
    {
     "name": "stdout",
     "output_type": "stream",
     "text": [
      "  Name  Age Place\n",
      "0    1   10     A\n",
      "1    2   12     B\n",
      "2    3    8     C\n"
     ]
    }
   ],
   "source": [
    "data1 = {\n",
    "    'Name':['1','2','3'],\n",
    "    'Age':[10,12,8]\n",
    "}\n",
    "data2 = {\n",
    "    'Name':['1','2','3'],\n",
    "    'Place':['A','B','C']\n",
    "}\n",
    "df1 = pd.DataFrame(data1)\n",
    "df2 = pd.DataFrame(data2)\n",
    "df3 = pd.merge(df1,df2,on='Name')\n",
    "print(df3)"
   ]
  },
  {
   "cell_type": "code",
   "execution_count": null,
   "metadata": {},
   "outputs": [],
   "source": []
  }
 ],
 "metadata": {
  "kernelspec": {
   "display_name": "Python 3",
   "language": "python",
   "name": "python3"
  },
  "language_info": {
   "codemirror_mode": {
    "name": "ipython",
    "version": 3
   },
   "file_extension": ".py",
   "mimetype": "text/x-python",
   "name": "python",
   "nbconvert_exporter": "python",
   "pygments_lexer": "ipython3",
   "version": "3.10.6"
  }
 },
 "nbformat": 4,
 "nbformat_minor": 2
}
