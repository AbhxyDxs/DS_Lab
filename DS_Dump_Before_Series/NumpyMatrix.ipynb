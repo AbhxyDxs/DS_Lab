{
 "cells": [
  {
   "cell_type": "code",
   "execution_count": 1,
   "metadata": {},
   "outputs": [],
   "source": [
    "import numpy as np"
   ]
  },
  {
   "cell_type": "code",
   "execution_count": 10,
   "metadata": {},
   "outputs": [
    {
     "name": "stdout",
     "output_type": "stream",
     "text": [
      "[[1. 2. 3.]\n",
      " [3. 2. 1.]\n",
      " [1. 2. 3.]]\n",
      "[[1. 1. 1.]\n",
      " [2. 2. 2.]\n",
      " [1. 1. 1.]]\n"
     ]
    }
   ],
   "source": [
    "r = int(input(\"Enter No of Rows : \"))\n",
    "c = int(input(\"Enter No of Columns : \"))\n",
    "m1 = np.zeros([r,c])\n",
    "m2 = np.zeros([r,c])\n",
    "for i in range (0,r):\n",
    "    for j in range (0,c):\n",
    "        m1[i][j]=int(input(f\"Enter ({i+1},{j+1}) Element :\"))\n",
    "for i in range (0,r):\n",
    "    for j in range (0,c):\n",
    "        m2[i][j]=int(input(f\"Enter ({i+1},{j+1}) Element :\"))\n",
    "print(m1)\n",
    "print(m2)"
   ]
  },
  {
   "cell_type": "code",
   "execution_count": 14,
   "metadata": {},
   "outputs": [
    {
     "name": "stdout",
     "output_type": "stream",
     "text": [
      "Dot Product\n",
      " [[8. 8. 8.]\n",
      " [8. 8. 8.]\n",
      " [8. 8. 8.]]\n",
      "Transpose\n",
      " [[1. 3. 1.]\n",
      " [2. 2. 2.]\n",
      " [3. 1. 3.]]\n",
      "Rank\n",
      " 2\n"
     ]
    }
   ],
   "source": [
    "print(\"Dot Product\\n\",np.dot(m1,m2))\n",
    "print(\"Transpose\\n\",np.transpose(m1))\n",
    "print(\"Rank\\n\",np.linalg.matrix_rank(m1))\n"
   ]
  },
  {
   "cell_type": "code",
   "execution_count": null,
   "metadata": {},
   "outputs": [],
   "source": []
  }
 ],
 "metadata": {
  "kernelspec": {
   "display_name": "Python 3",
   "language": "python",
   "name": "python3"
  },
  "language_info": {
   "codemirror_mode": {
    "name": "ipython",
    "version": 3
   },
   "file_extension": ".py",
   "mimetype": "text/x-python",
   "name": "python",
   "nbconvert_exporter": "python",
   "pygments_lexer": "ipython3",
   "version": "3.10.6"
  }
 },
 "nbformat": 4,
 "nbformat_minor": 2
}
